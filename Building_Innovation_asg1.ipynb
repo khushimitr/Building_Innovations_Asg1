{
  "nbformat": 4,
  "nbformat_minor": 0,
  "metadata": {
    "colab": {
      "provenance": [],
      "collapsed_sections": [],
      "include_colab_link": true
    },
    "kernelspec": {
      "name": "python3",
      "display_name": "Python 3"
    },
    "language_info": {
      "name": "python"
    }
  },
  "cells": [
    {
      "cell_type": "markdown",
      "metadata": {
        "id": "view-in-github",
        "colab_type": "text"
      },
      "source": [
        "<a href=\"https://colab.research.google.com/github/khushimitr/Building_Innovations_Asg1/blob/main/Building_Innovation_asg1.ipynb\" target=\"_parent\"><img src=\"https://colab.research.google.com/assets/colab-badge.svg\" alt=\"Open In Colab\"/></a>"
      ]
    },
    {
      "cell_type": "code",
      "source": [
        "import pandas as pd\n",
        "import numpy as np\n",
        "from sklearn.ensemble import GradientBoostingRegressor\n",
        "from sklearn.ensemble import RandomForestRegressor"
      ],
      "metadata": {
        "id": "7e_xpaQCCNWu"
      },
      "execution_count": 9,
      "outputs": []
    },
    {
      "cell_type": "code",
      "source": [
        "from google.colab import drive\n",
        "drive.mount('/content/drive')"
      ],
      "metadata": {
        "colab": {
          "base_uri": "https://localhost:8080/"
        },
        "id": "1Y6iUfyB_VCK",
        "outputId": "5e3989f4-dda6-46d9-c74e-267e3f72e1b4"
      },
      "execution_count": 2,
      "outputs": [
        {
          "output_type": "stream",
          "name": "stdout",
          "text": [
            "Mounted at /content/drive\n"
          ]
        }
      ]
    },
    {
      "cell_type": "code",
      "source": [
        "!cp /content/drive/MyDrive/DATASET.xlsx /content"
      ],
      "metadata": {
        "id": "kC65UoNyorT2"
      },
      "execution_count": 3,
      "outputs": []
    },
    {
      "cell_type": "code",
      "source": [
        "df = pd.read_excel(\"/content/DATASET.xlsx\")"
      ],
      "metadata": {
        "id": "tTfqORUaoiOH",
        "colab": {
          "base_uri": "https://localhost:8080/"
        },
        "outputId": "a7d9da72-c913-4917-c8e9-90e7abc5850f"
      },
      "execution_count": 19,
      "outputs": [
        {
          "output_type": "stream",
          "name": "stderr",
          "text": [
            "/usr/local/lib/python3.7/dist-packages/openpyxl/worksheet/_reader.py:312: UserWarning: Unknown extension is not supported and will be removed\n",
            "  warn(msg)\n",
            "/usr/local/lib/python3.7/dist-packages/openpyxl/worksheet/_reader.py:312: UserWarning: Conditional Formatting extension is not supported and will be removed\n",
            "  warn(msg)\n"
          ]
        }
      ]
    },
    {
      "cell_type": "code",
      "source": [
        "n = len(df)\n",
        "j = 0\n",
        "k = 0\n",
        "for i in range(n):\n",
        "    tmp = df.iloc[k, 0]\n",
        "    if(tmp.startswith('Sec')):\n",
        "        g = str(tmp).split('_')[1]\n",
        "    else :\n",
        "        g = int(tmp)\n",
        "    df.iloc[j, 0] = g\n",
        "    j += 1\n",
        "    if(j%10 == 0):\n",
        "        k += 10\n",
        "df.columns = df.columns.str.replace('Unnamed: 0', 'Sec')\n",
        "df.fillna(0,inplace = True)\n",
        "df[\"Sec\"] = df[\"Sec\"].astype(int)"
      ],
      "metadata": {
        "id": "Q6LGm1meolI-"
      },
      "execution_count": 20,
      "outputs": []
    },
    {
      "cell_type": "code",
      "source": [
        "df.head()"
      ],
      "metadata": {
        "colab": {
          "base_uri": "https://localhost:8080/",
          "height": 206
        },
        "id": "cB_Yecj0BiGZ",
        "outputId": "8202f728-4622-4266-e9ca-0b34c330773d"
      },
      "execution_count": 21,
      "outputs": [
        {
          "output_type": "execute_result",
          "data": {
            "text/plain": [
              "   Sec  year  Para-1  Para-2  Para-3  Para-4  Para-5  Para-6  Para-7  Para-8  \\\n",
              "0    1     1   324.0   354.5    17.0     0.0     3.0   117.0  2600.0   400.0   \n",
              "1    1     2   324.0   161.1    18.2     0.0     4.0   106.0  5950.0  1190.0   \n",
              "2    1     3   324.0   170.7    18.5     0.0     4.0   110.0  5950.0  1190.0   \n",
              "3    1     4   324.0   223.9    18.9     0.0     3.0   110.0  6150.0  1340.0   \n",
              "4    1     5   324.0   228.2    18.4     0.0     2.0   113.0  6340.0  1450.0   \n",
              "\n",
              "   Para-9  Para-10  Para-11  Para-12  Para-13  \n",
              "0     0.0      0.0      0.0      0.0     1.52  \n",
              "1     0.0      3.4      0.0      0.0     1.62  \n",
              "2     0.0     21.3      0.0      4.0     1.68  \n",
              "3     0.0     21.3      0.0      5.0     1.78  \n",
              "4     0.0     23.9      0.0      7.0     1.80  "
            ],
            "text/html": [
              "\n",
              "  <div id=\"df-4ffe65b7-1a29-4f3f-b1d4-470d62f02d6c\">\n",
              "    <div class=\"colab-df-container\">\n",
              "      <div>\n",
              "<style scoped>\n",
              "    .dataframe tbody tr th:only-of-type {\n",
              "        vertical-align: middle;\n",
              "    }\n",
              "\n",
              "    .dataframe tbody tr th {\n",
              "        vertical-align: top;\n",
              "    }\n",
              "\n",
              "    .dataframe thead th {\n",
              "        text-align: right;\n",
              "    }\n",
              "</style>\n",
              "<table border=\"1\" class=\"dataframe\">\n",
              "  <thead>\n",
              "    <tr style=\"text-align: right;\">\n",
              "      <th></th>\n",
              "      <th>Sec</th>\n",
              "      <th>year</th>\n",
              "      <th>Para-1</th>\n",
              "      <th>Para-2</th>\n",
              "      <th>Para-3</th>\n",
              "      <th>Para-4</th>\n",
              "      <th>Para-5</th>\n",
              "      <th>Para-6</th>\n",
              "      <th>Para-7</th>\n",
              "      <th>Para-8</th>\n",
              "      <th>Para-9</th>\n",
              "      <th>Para-10</th>\n",
              "      <th>Para-11</th>\n",
              "      <th>Para-12</th>\n",
              "      <th>Para-13</th>\n",
              "    </tr>\n",
              "  </thead>\n",
              "  <tbody>\n",
              "    <tr>\n",
              "      <th>0</th>\n",
              "      <td>1</td>\n",
              "      <td>1</td>\n",
              "      <td>324.0</td>\n",
              "      <td>354.5</td>\n",
              "      <td>17.0</td>\n",
              "      <td>0.0</td>\n",
              "      <td>3.0</td>\n",
              "      <td>117.0</td>\n",
              "      <td>2600.0</td>\n",
              "      <td>400.0</td>\n",
              "      <td>0.0</td>\n",
              "      <td>0.0</td>\n",
              "      <td>0.0</td>\n",
              "      <td>0.0</td>\n",
              "      <td>1.52</td>\n",
              "    </tr>\n",
              "    <tr>\n",
              "      <th>1</th>\n",
              "      <td>1</td>\n",
              "      <td>2</td>\n",
              "      <td>324.0</td>\n",
              "      <td>161.1</td>\n",
              "      <td>18.2</td>\n",
              "      <td>0.0</td>\n",
              "      <td>4.0</td>\n",
              "      <td>106.0</td>\n",
              "      <td>5950.0</td>\n",
              "      <td>1190.0</td>\n",
              "      <td>0.0</td>\n",
              "      <td>3.4</td>\n",
              "      <td>0.0</td>\n",
              "      <td>0.0</td>\n",
              "      <td>1.62</td>\n",
              "    </tr>\n",
              "    <tr>\n",
              "      <th>2</th>\n",
              "      <td>1</td>\n",
              "      <td>3</td>\n",
              "      <td>324.0</td>\n",
              "      <td>170.7</td>\n",
              "      <td>18.5</td>\n",
              "      <td>0.0</td>\n",
              "      <td>4.0</td>\n",
              "      <td>110.0</td>\n",
              "      <td>5950.0</td>\n",
              "      <td>1190.0</td>\n",
              "      <td>0.0</td>\n",
              "      <td>21.3</td>\n",
              "      <td>0.0</td>\n",
              "      <td>4.0</td>\n",
              "      <td>1.68</td>\n",
              "    </tr>\n",
              "    <tr>\n",
              "      <th>3</th>\n",
              "      <td>1</td>\n",
              "      <td>4</td>\n",
              "      <td>324.0</td>\n",
              "      <td>223.9</td>\n",
              "      <td>18.9</td>\n",
              "      <td>0.0</td>\n",
              "      <td>3.0</td>\n",
              "      <td>110.0</td>\n",
              "      <td>6150.0</td>\n",
              "      <td>1340.0</td>\n",
              "      <td>0.0</td>\n",
              "      <td>21.3</td>\n",
              "      <td>0.0</td>\n",
              "      <td>5.0</td>\n",
              "      <td>1.78</td>\n",
              "    </tr>\n",
              "    <tr>\n",
              "      <th>4</th>\n",
              "      <td>1</td>\n",
              "      <td>5</td>\n",
              "      <td>324.0</td>\n",
              "      <td>228.2</td>\n",
              "      <td>18.4</td>\n",
              "      <td>0.0</td>\n",
              "      <td>2.0</td>\n",
              "      <td>113.0</td>\n",
              "      <td>6340.0</td>\n",
              "      <td>1450.0</td>\n",
              "      <td>0.0</td>\n",
              "      <td>23.9</td>\n",
              "      <td>0.0</td>\n",
              "      <td>7.0</td>\n",
              "      <td>1.80</td>\n",
              "    </tr>\n",
              "  </tbody>\n",
              "</table>\n",
              "</div>\n",
              "      <button class=\"colab-df-convert\" onclick=\"convertToInteractive('df-4ffe65b7-1a29-4f3f-b1d4-470d62f02d6c')\"\n",
              "              title=\"Convert this dataframe to an interactive table.\"\n",
              "              style=\"display:none;\">\n",
              "        \n",
              "  <svg xmlns=\"http://www.w3.org/2000/svg\" height=\"24px\"viewBox=\"0 0 24 24\"\n",
              "       width=\"24px\">\n",
              "    <path d=\"M0 0h24v24H0V0z\" fill=\"none\"/>\n",
              "    <path d=\"M18.56 5.44l.94 2.06.94-2.06 2.06-.94-2.06-.94-.94-2.06-.94 2.06-2.06.94zm-11 1L8.5 8.5l.94-2.06 2.06-.94-2.06-.94L8.5 2.5l-.94 2.06-2.06.94zm10 10l.94 2.06.94-2.06 2.06-.94-2.06-.94-.94-2.06-.94 2.06-2.06.94z\"/><path d=\"M17.41 7.96l-1.37-1.37c-.4-.4-.92-.59-1.43-.59-.52 0-1.04.2-1.43.59L10.3 9.45l-7.72 7.72c-.78.78-.78 2.05 0 2.83L4 21.41c.39.39.9.59 1.41.59.51 0 1.02-.2 1.41-.59l7.78-7.78 2.81-2.81c.8-.78.8-2.07 0-2.86zM5.41 20L4 18.59l7.72-7.72 1.47 1.35L5.41 20z\"/>\n",
              "  </svg>\n",
              "      </button>\n",
              "      \n",
              "  <style>\n",
              "    .colab-df-container {\n",
              "      display:flex;\n",
              "      flex-wrap:wrap;\n",
              "      gap: 12px;\n",
              "    }\n",
              "\n",
              "    .colab-df-convert {\n",
              "      background-color: #E8F0FE;\n",
              "      border: none;\n",
              "      border-radius: 50%;\n",
              "      cursor: pointer;\n",
              "      display: none;\n",
              "      fill: #1967D2;\n",
              "      height: 32px;\n",
              "      padding: 0 0 0 0;\n",
              "      width: 32px;\n",
              "    }\n",
              "\n",
              "    .colab-df-convert:hover {\n",
              "      background-color: #E2EBFA;\n",
              "      box-shadow: 0px 1px 2px rgba(60, 64, 67, 0.3), 0px 1px 3px 1px rgba(60, 64, 67, 0.15);\n",
              "      fill: #174EA6;\n",
              "    }\n",
              "\n",
              "    [theme=dark] .colab-df-convert {\n",
              "      background-color: #3B4455;\n",
              "      fill: #D2E3FC;\n",
              "    }\n",
              "\n",
              "    [theme=dark] .colab-df-convert:hover {\n",
              "      background-color: #434B5C;\n",
              "      box-shadow: 0px 1px 3px 1px rgba(0, 0, 0, 0.15);\n",
              "      filter: drop-shadow(0px 1px 2px rgba(0, 0, 0, 0.3));\n",
              "      fill: #FFFFFF;\n",
              "    }\n",
              "  </style>\n",
              "\n",
              "      <script>\n",
              "        const buttonEl =\n",
              "          document.querySelector('#df-4ffe65b7-1a29-4f3f-b1d4-470d62f02d6c button.colab-df-convert');\n",
              "        buttonEl.style.display =\n",
              "          google.colab.kernel.accessAllowed ? 'block' : 'none';\n",
              "\n",
              "        async function convertToInteractive(key) {\n",
              "          const element = document.querySelector('#df-4ffe65b7-1a29-4f3f-b1d4-470d62f02d6c');\n",
              "          const dataTable =\n",
              "            await google.colab.kernel.invokeFunction('convertToInteractive',\n",
              "                                                     [key], {});\n",
              "          if (!dataTable) return;\n",
              "\n",
              "          const docLinkHtml = 'Like what you see? Visit the ' +\n",
              "            '<a target=\"_blank\" href=https://colab.research.google.com/notebooks/data_table.ipynb>data table notebook</a>'\n",
              "            + ' to learn more about interactive tables.';\n",
              "          element.innerHTML = '';\n",
              "          dataTable['output_type'] = 'display_data';\n",
              "          await google.colab.output.renderOutput(dataTable, element);\n",
              "          const docLink = document.createElement('div');\n",
              "          docLink.innerHTML = docLinkHtml;\n",
              "          element.appendChild(docLink);\n",
              "        }\n",
              "      </script>\n",
              "    </div>\n",
              "  </div>\n",
              "  "
            ]
          },
          "metadata": {},
          "execution_count": 21
        }
      ]
    },
    {
      "cell_type": "markdown",
      "source": [
        "## MODELLING"
      ],
      "metadata": {
        "id": "TYa1mjYRlTc8"
      }
    },
    {
      "cell_type": "code",
      "source": [
        "cols = ['Para_9', 'Para_10', 'Para_11', 'Para_12', 'Para_13']\n",
        "res_dict = {'Para_9': [], 'Para_10': [], 'Para_11': [], 'Para_12': [], 'Para_13': []}"
      ],
      "metadata": {
        "id": "QdD2ojeE5Lkn"
      },
      "execution_count": 22,
      "outputs": []
    },
    {
      "cell_type": "code",
      "source": [
        "model = GradientBoostingRegressor()\n",
        "rf = RandomForestRegressor(n_estimators = 120, random_state = 42)"
      ],
      "metadata": {
        "id": "mMi78j9h5UdK"
      },
      "execution_count": 23,
      "outputs": []
    },
    {
      "cell_type": "code",
      "source": [
        "lst = [10,11,12,13,14]\n",
        "def select_model(val):\n",
        "    rmse = []\n",
        "    index = 0\n",
        "    if(val==0):\n",
        "        for j in lst:\n",
        "            res = 0\n",
        "            count = 0\n",
        "            for i in range(0, n, 10):\n",
        "                X_train = df.iloc[i:i+9, 1:10]\n",
        "                Y_train = df.iloc[i:i+9, j]\n",
        "                X_test = df.iloc[i+9, 1:10].to_numpy()\n",
        "                Y_test = df.iloc[i+9, j]\n",
        "                model.fit(x_train.values, y_train.values)\n",
        "\n",
        "                Y_pred = model.predict(X_test.reshape(1,-1))[0]\n",
        "\n",
        "                res_dict[cols[index]].append(Y_pred)\n",
        "                res += (Y_test - Y_pred)**2\n",
        "                count += 1\n",
        "            rmse.append(res)\n",
        "            index += 1\n",
        "    else:\n",
        "        for j in lst:\n",
        "            res = 0\n",
        "            count = 0\n",
        "            for i in range(0, n, 10):\n",
        "                x_train = df.iloc[i:i+9, 1:10]\n",
        "                y_train = df.iloc[i:i+9, j]\n",
        "                x_test = df.iloc[i+9, 1:10].to_numpy()\n",
        "                y_test = df.iloc[i+9, j]\n",
        "\n",
        "                rf.fit(x_train.values, y_train.values)\n",
        "                y_pred = rf.predict(x_test.reshape(1,-1))[0]\n",
        "                res_dict[cols[index]].append(y_pred)\n",
        "                res += (y_test - y_pred)**2\n",
        "                count += 1\n",
        "            rmse.append(res)\n",
        "            index += 1\n",
        "    return (rmse, count)"
      ],
      "metadata": {
        "id": "q6a79A-y5ySP"
      },
      "execution_count": 24,
      "outputs": []
    },
    {
      "cell_type": "code",
      "source": [
        "rmse, count = select_model(1)"
      ],
      "metadata": {
        "id": "6gBSb15s66ku"
      },
      "execution_count": 25,
      "outputs": []
    },
    {
      "cell_type": "markdown",
      "source": [
        "## Calculations:"
      ],
      "metadata": {
        "id": "VBRP6eZ_66r3"
      }
    },
    {
      "cell_type": "code",
      "source": [
        "print(rmse)"
      ],
      "metadata": {
        "colab": {
          "base_uri": "https://localhost:8080/"
        },
        "id": "IUnIaSlt66y5",
        "outputId": "c3322e9a-e96e-4290-9bcc-f0c206070e2d"
      },
      "execution_count": 26,
      "outputs": [
        {
          "output_type": "stream",
          "name": "stdout",
          "text": [
            "[472838.4846816743, 420296.62745216105, 70186.34430555555, 22203.631998456785, 5.118089929966753]\n"
          ]
        }
      ]
    },
    {
      "cell_type": "code",
      "source": [
        "for i in rmse:\n",
        "    print((i/count)**0.5)"
      ],
      "metadata": {
        "colab": {
          "base_uri": "https://localhost:8080/"
        },
        "id": "dhTL3WZZ7OHI",
        "outputId": "be39b960-d0e8-47f4-ff98-4ee77e8879bb"
      },
      "execution_count": 27,
      "outputs": [
        {
          "output_type": "stream",
          "name": "stdout",
          "text": [
            "68.42199321317746\n",
            "64.50854786035026\n",
            "26.361227210716223\n",
            "14.82693294578417\n",
            "0.2251092128777565\n"
          ]
        }
      ]
    },
    {
      "cell_type": "code",
      "source": [
        "print((sum(rmse)/500)**0.5)"
      ],
      "metadata": {
        "colab": {
          "base_uri": "https://localhost:8080/"
        },
        "id": "Nddn8HIN9QhS",
        "outputId": "fa8e9128-5879-4c7d-d452-625b1f781908"
      },
      "execution_count": 28,
      "outputs": [
        {
          "output_type": "stream",
          "name": "stdout",
          "text": [
            "44.39662614496236\n"
          ]
        }
      ]
    },
    {
      "cell_type": "markdown",
      "source": [
        "## Plots"
      ],
      "metadata": {
        "id": "kAoPnMNqB0hm"
      }
    },
    {
      "cell_type": "code",
      "source": [
        "import random\n",
        "test_df = df.loc[df['year'] == 10]\n",
        "pred_df = pd.DataFrame.from_dict(res_dict)\n",
        "\n",
        "ind = []\n",
        "ind.append(random.randint(0,100))"
      ],
      "metadata": {
        "id": "mYWFRAbyCFTh"
      },
      "execution_count": 29,
      "outputs": []
    },
    {
      "cell_type": "code",
      "source": [
        "import matplotlib.pyplot as plt\n",
        "plt.figure(figsize=(6,6))\n",
        "true_value = test_df.iloc[ind, 1+10]\n",
        "predicted_value = pred_df.iloc[ind, 1]\n",
        "plt.scatter(true_value, predicted_value, c='blue')\n",
        "\n",
        "p1 = max(max(predicted_value), max(true_value))\n",
        "p2 = min(min(predicted_value), min(true_value))\n",
        "plt.plot([p1, p2], [p1, p2], 'b-')\n",
        "plt.title(cols[1])\n",
        "plt.xlabel('True Values', fontsize=13)\n",
        "plt.ylabel('Predictions', fontsize=13)\n",
        "plt.axis('equal')\n",
        "plt.show()"
      ],
      "metadata": {
        "colab": {
          "base_uri": "https://localhost:8080/",
          "height": 407
        },
        "id": "4EPU1BMBB1mt",
        "outputId": "cbcfb8a5-43e4-4949-907a-e7683ebc9c67"
      },
      "execution_count": 32,
      "outputs": [
        {
          "output_type": "display_data",
          "data": {
            "text/plain": [
              "<Figure size 432x432 with 1 Axes>"
            ],
            "image/png": "[encoded data removed]"
          },
          "metadata": {
            "needs_background": "light"
          }
        }
      ]
    }
  ]
}